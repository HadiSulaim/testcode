{
 "cells": [
  {
   "cell_type": "code",
   "execution_count": 1,
   "metadata": {},
   "outputs": [
    {
     "name": "stdout",
     "output_type": "stream",
     "text": [
      "Coordinates: (517, 266)\n",
      "Coordinates: (547, 374)\n"
     ]
    }
   ],
   "source": [
    "import cv2\n",
    "\n",
    "def click_event(event, x, y, flags, param):\n",
    "    if event == cv2.EVENT_LBUTTONDOWN:\n",
    "        print(f\"Coordinates: ({x}, {y})\")\n",
    "        font = cv2.FONT_HERSHEY_SIMPLEX\n",
    "        cv2.putText(img, f\"{x},{y}\", (x,y), font, 0.5, (255, 0, 0), 1)\n",
    "        cv2.imshow('image', img)\n",
    "\n",
    "img = cv2.imread(r'C:\\Users\\user1\\Desktop\\Thesis OT\\OT_implementation\\segment-anything-2\\notebooks\\videos\\video5\\00115.jpg')\n",
    "cv2.imshow('image', img)\n",
    "cv2.setMouseCallback('image', click_event)\n",
    "cv2.waitKey(0)\n",
    "cv2.destroyAllWindows()"
   ]
  },
  {
   "cell_type": "code",
   "execution_count": 1,
   "metadata": {},
   "outputs": [
    {
     "name": "stdout",
     "output_type": "stream",
     "text": [
      "Coordinates: (443, 325)\n",
      "Coordinates: (439, 460)\n",
      "Coordinates: (62, 379)\n"
     ]
    }
   ],
   "source": [
    "import cv2\n",
    "\n",
    "def click_event(event, x, y, flags, param):\n",
    "    if event == cv2.EVENT_LBUTTONDOWN:\n",
    "        print(f\"Coordinates: ({x}, {y})\")\n",
    "        font = cv2.FONT_HERSHEY_SIMPLEX\n",
    "        cv2.putText(img, f\"{x},{y}\", (x,y), font, 0.5, (255, 0, 0), 1)\n",
    "        cv2.imshow('image', img)\n",
    "\n",
    "img = cv2.imread(r'C:\\Users\\user1\\Desktop\\Thesis OT\\OT_implementation\\segment-anything-2\\notebooks\\videos\\test\\00000.jpg')\n",
    "cv2.imshow('image', img)\n",
    "cv2.setMouseCallback('image', click_event)\n",
    "cv2.waitKey(0)\n",
    "cv2.destroyAllWindows()"
   ]
  },
  {
   "cell_type": "code",
   "execution_count": 1,
   "metadata": {},
   "outputs": [
    {
     "name": "stdout",
     "output_type": "stream",
     "text": [
      "Coordinates: (474, 140)\n",
      "Coordinates: (380, 228)\n",
      "Coordinates: (504, 286)\n"
     ]
    }
   ],
   "source": [
    "import cv2\n",
    "\n",
    "def click_event(event, x, y, flags, param):\n",
    "    if event == cv2.EVENT_LBUTTONDOWN:\n",
    "        print(f\"Coordinates: ({x}, {y})\")\n",
    "        font = cv2.FONT_HERSHEY_SIMPLEX\n",
    "        cv2.putText(img, f\"{x},{y}\", (x,y), font, 0.5, (255, 0, 0), 1)\n",
    "        cv2.imshow('image', img)\n",
    "\n",
    "img = cv2.imread('images/capture.jpg')\n",
    "cv2.imshow('image', img)\n",
    "cv2.setMouseCallback('image', click_event)\n",
    "cv2.waitKey(0)\n",
    "cv2.destroyAllWindows()"
   ]
  },
  {
   "cell_type": "code",
   "execution_count": 3,
   "metadata": {},
   "outputs": [
    {
     "name": "stdout",
     "output_type": "stream",
     "text": [
      "Coordinates: (913, 469)\n"
     ]
    }
   ],
   "source": [
    "import cv2\n",
    "\n",
    "def click_event(event, x, y, flags, param):\n",
    "    if event == cv2.EVENT_LBUTTONDOWN:\n",
    "        print(f\"Coordinates: ({x}, {y})\")\n",
    "        font = cv2.FONT_HERSHEY_SIMPLEX\n",
    "        cv2.putText(img, f\"{x},{y}\", (x,y), font, 0.5, (255, 0, 0), 1)\n",
    "        cv2.imshow('image', img)\n",
    "\n",
    "img = cv2.imread(r'.\\videos\\street_folders\\street\\00001.jpg')\n",
    "cv2.imshow('image', img)\n",
    "cv2.setMouseCallback('image', click_event)\n",
    "cv2.waitKey(0)\n",
    "cv2.destroyAllWindows()"
   ]
  },
  {
   "cell_type": "code",
   "execution_count": 11,
   "metadata": {},
   "outputs": [
    {
     "name": "stdout",
     "output_type": "stream",
     "text": [
      "Coordinates: (370, 405)\n",
      "Coordinates: (739, 351)\n",
      "Coordinates: (887, 399)\n"
     ]
    }
   ],
   "source": [
    "import cv2\n",
    "\n",
    "def click_event(event, x, y, flags, param):\n",
    "    if event == cv2.EVENT_LBUTTONDOWN:\n",
    "        print(f\"Coordinates: ({x}, {y})\")\n",
    "        font = cv2.FONT_HERSHEY_SIMPLEX\n",
    "        cv2.putText(img, f\"{x},{y}\", (x,y), font, 0.5, (255, 0, 0), 1)\n",
    "        cv2.imshow('image', img)\n",
    "\n",
    "img = cv2.imread(r'.\\videos\\outputsam2_video5.mp4\\0167.jpg')\n",
    "cv2.imshow('image', img)\n",
    "cv2.setMouseCallback('image', click_event)\n",
    "cv2.waitKey(0)\n",
    "cv2.destroyAllWindows()"
   ]
  },
  {
   "cell_type": "code",
   "execution_count": 12,
   "metadata": {},
   "outputs": [
    {
     "name": "stdout",
     "output_type": "stream",
     "text": [
      "Coordinates: (517, 427)\n",
      "Coordinates: (859, 418)\n",
      "Coordinates: (1109, 419)\n"
     ]
    }
   ],
   "source": [
    "import cv2\n",
    "\n",
    "def click_event(event, x, y, flags, param):\n",
    "    if event == cv2.EVENT_LBUTTONDOWN:\n",
    "        print(f\"Coordinates: ({x}, {y})\")\n",
    "        font = cv2.FONT_HERSHEY_SIMPLEX\n",
    "        cv2.putText(img, f\"{x},{y}\", (x,y), font, 0.5, (255, 0, 0), 1)\n",
    "        cv2.imshow('image', img)\n",
    "\n",
    "img = cv2.imread(r'.\\videos\\outputsam2_video5.mp4\\0450.jpg')\n",
    "cv2.imshow('image', img)\n",
    "cv2.setMouseCallback('image', click_event)\n",
    "cv2.waitKey(0)\n",
    "cv2.destroyAllWindows()"
   ]
  },
  {
   "cell_type": "code",
   "execution_count": 19,
   "metadata": {},
   "outputs": [
    {
     "name": "stdout",
     "output_type": "stream",
     "text": [
      "Coordinates: (541, 294)\n"
     ]
    }
   ],
   "source": [
    "import cv2\n",
    "\n",
    "def click_event(event, x, y, flags, param):\n",
    "    if event == cv2.EVENT_LBUTTONDOWN:\n",
    "        print(f\"Coordinates: ({x}, {y})\")\n",
    "        font = cv2.FONT_HERSHEY_SIMPLEX\n",
    "        cv2.putText(img, f\"{x},{y}\", (x,y), font, 0.5, (255, 0, 0), 1)\n",
    "        cv2.imshow('image', img)\n",
    "\n",
    "img = cv2.imread(r'C:\\Users\\hadis\\Desktop\\thesis clone\\Thesis-implementation\\segment-anything-2\\output.png')\n",
    "cv2.imshow('image', img)\n",
    "cv2.setMouseCallback('image', click_event)\n",
    "cv2.waitKey(0)\n",
    "cv2.destroyAllWindows()"
   ]
  },
  {
   "cell_type": "code",
   "execution_count": 13,
   "metadata": {},
   "outputs": [
    {
     "name": "stdout",
     "output_type": "stream",
     "text": [
      "Coordinates: (1075, 531)\n",
      "Coordinates: (1002, 549)\n",
      "Coordinates: (824, 466)\n",
      "Coordinates: (756, 483)\n"
     ]
    }
   ],
   "source": [
    "import cv2\n",
    "\n",
    "def click_event(event, x, y, flags, param):\n",
    "    if event == cv2.EVENT_LBUTTONDOWN:\n",
    "        print(f\"Coordinates: ({x}, {y})\")\n",
    "        font = cv2.FONT_HERSHEY_SIMPLEX\n",
    "        cv2.putText(img, f\"{x},{y}\", (x,y), font, 0.5, (255, 0, 0), 1)\n",
    "        cv2.imshow('image', img)\n",
    "\n",
    "img = cv2.imread(r'.\\videos\\outputsam2_drdata\\0000.jpg')\n",
    "\n",
    "cv2.imshow('image', img)\n",
    "cv2.setMouseCallback('image', click_event)\n",
    "cv2.waitKey(0)\n",
    "cv2.destroyAllWindows()"
   ]
  },
  {
   "cell_type": "code",
   "execution_count": null,
   "metadata": {},
   "outputs": [],
   "source": []
  }
 ],
 "metadata": {
  "kernelspec": {
   "display_name": "Python 3",
   "language": "python",
   "name": "python3"
  },
  "language_info": {
   "codemirror_mode": {
    "name": "ipython",
    "version": 3
   },
   "file_extension": ".py",
   "mimetype": "text/x-python",
   "name": "python",
   "nbconvert_exporter": "python",
   "pygments_lexer": "ipython3",
   "version": "3.12.8"
  }
 },
 "nbformat": 4,
 "nbformat_minor": 2
}
