{
 "cells": [
  {
   "cell_type": "code",
   "execution_count": null,
   "metadata": {},
   "outputs": [],
   "source": [
    "#!pip install opencv-python"
   ]
  },
  {
   "cell_type": "code",
   "execution_count": 1,
   "metadata": {},
   "outputs": [
    {
     "name": "stdout",
     "output_type": "stream",
     "text": [
      "Frames saved in C:\\Users\\hadis\\Desktop\\thesis clone\\Thesis-implementation\\segment-anything-2\\notebooks\\videos\\outputsam2_video5.mp4\n"
     ]
    }
   ],
   "source": [
    "import cv2\n",
    "import os\n",
    "\n",
    "# Path to the video file\n",
    "video_path = r'C:\\Users\\hadis\\Desktop\\thesis clone\\Thesis-implementation\\segment-anything-2\\notebooks\\videos\\video5.mp4.mp4'\n",
    "\n",
    "# Extract the video filename without extension to use as the folder name\n",
    "video_name = os.path.splitext(os.path.basename(video_path))[0]\n",
    "\n",
    "# Directory to save frames\n",
    "output_dir = os.path.join(os.path.dirname(video_path), f'outputsam2_{video_name}')\n",
    "\n",
    "# Create the directory if it doesn't exist\n",
    "if not os.path.exists(output_dir):\n",
    "    os.makedirs(output_dir)\n",
    "\n",
    "# Open the video file\n",
    "cap = cv2.VideoCapture(video_path)\n",
    "\n",
    "if not cap.isOpened():\n",
    "    print(\"Error: Could not open video.\")\n",
    "    exit()\n",
    "\n",
    "frame_index = 0\n",
    "while True:\n",
    "    ret, frame = cap.read()\n",
    "    if not ret:\n",
    "        break\n",
    "\n",
    "    # Save the frame as a JPEG file with the desired naming format\n",
    "    frame_filename = os.path.join(output_dir, f'{frame_index:04d}.jpg')\n",
    "    cv2.imwrite(frame_filename, frame)  # Save the original frame\n",
    "    \n",
    "    frame_index += 1\n",
    "\n",
    "# Release the video capture object\n",
    "cap.release()\n",
    "\n",
    "print(f'Frames saved in {output_dir}')"
   ]
  },
  {
   "cell_type": "code",
   "execution_count": 3,
   "metadata": {},
   "outputs": [
    {
     "name": "stdout",
     "output_type": "stream",
     "text": [
      "Frames saved in C:\\Users\\hadis\\Desktop\\thesis clone\\Thesis-implementation\\segment-anything-2\\notebooks\\videos\\outputsam2_video5.mp4\n",
      "Total number of extracted images: 458\n"
     ]
    }
   ],
   "source": [
    "import cv2\n",
    "import os\n",
    "\n",
    "# Path to the video file\n",
    "video_path = r'.\\videos\\video5.mp4.mp4'\n",
    "\n",
    "# Extract the video filename without extension to use as the folder name\n",
    "video_name = os.path.splitext(os.path.basename(video_path))[0]\n",
    "\n",
    "# Directory to save frames\n",
    "output_dir = os.path.join(os.path.dirname(video_path), f'outputsam2_{video_name}')\n",
    "\n",
    "# Create the directory if it doesn't exist\n",
    "if not os.path.exists(output_dir):\n",
    "    os.makedirs(output_dir)\n",
    "\n",
    "# Open the video file\n",
    "cap = cv2.VideoCapture(video_path)\n",
    "\n",
    "if not cap.isOpened():\n",
    "    print(\"Error: Could not open video.\")\n",
    "    exit()\n",
    "\n",
    "frame_index = 0\n",
    "image_count = 0  # Initialize a counter for the number of images extracted\n",
    "while True:\n",
    "    ret, frame = cap.read()\n",
    "    if not ret:\n",
    "        break\n",
    "\n",
    "    # Save the frame as a JPEG file with the desired naming format\n",
    "    frame_filename = os.path.join(output_dir, f'{frame_index:04d}.jpg')\n",
    "    cv2.imwrite(frame_filename, frame)  # Save the original frame\n",
    "    \n",
    "    frame_index += 1\n",
    "    image_count += 1  # Increment the image counter\n",
    "\n",
    "# Release the video capture object\n",
    "cap.release()\n",
    "\n",
    "print(f'Frames saved in {output_dir}')\n",
    "print(f'Total number of extracted images: {image_count}')"
   ]
  },
  {
   "cell_type": "code",
   "execution_count": 1,
   "metadata": {},
   "outputs": [
    {
     "name": "stdout",
     "output_type": "stream",
     "text": [
      "Frames saved in .\\videos\\outputsam2_reidentificationtest\n",
      "Total number of extracted images: 4671\n"
     ]
    }
   ],
   "source": [
    "import cv2\n",
    "import os\n",
    "\n",
    "# Path to the video file\n",
    "video_path = r\".\\videos\\reidentificationtest.mp4\"\n",
    "\n",
    "# Extract the video filename without extension to use as the folder name\n",
    "video_name = os.path.splitext(os.path.basename(video_path))[0]\n",
    "\n",
    "# Directory to save frames\n",
    "output_dir = os.path.join(os.path.dirname(video_path), f'outputsam2_{video_name}')\n",
    "\n",
    "# Create the directory if it doesn't exist\n",
    "if not os.path.exists(output_dir):\n",
    "    os.makedirs(output_dir)\n",
    "\n",
    "# Open the video file\n",
    "cap = cv2.VideoCapture(video_path)\n",
    "\n",
    "if not cap.isOpened():\n",
    "    print(\"Error: Could not open video.\")\n",
    "    exit()\n",
    "\n",
    "frame_index = 0\n",
    "image_count = 0  # Initialize a counter for the number of images extracted\n",
    "while True:\n",
    "    ret, frame = cap.read()\n",
    "    if not ret:\n",
    "        break\n",
    "\n",
    "    # Save the frame as a JPEG file with the desired naming format\n",
    "    frame_filename = os.path.join(output_dir, f'{frame_index:04d}.jpg')\n",
    "    cv2.imwrite(frame_filename, frame)  # Save the original frame\n",
    "    \n",
    "    frame_index += 1\n",
    "    image_count += 1  # Increment the image counter\n",
    "\n",
    "# Release the video capture object\n",
    "cap.release()\n",
    "\n",
    "print(f'Frames saved in {output_dir}')\n",
    "print(f'Total number of extracted images: {image_count}')"
   ]
  },
  {
   "cell_type": "code",
   "execution_count": null,
   "metadata": {},
   "outputs": [],
   "source": []
  }
 ],
 "metadata": {
  "kernelspec": {
   "display_name": "Python 3",
   "language": "python",
   "name": "python3"
  },
  "language_info": {
   "codemirror_mode": {
    "name": "ipython",
    "version": 3
   },
   "file_extension": ".py",
   "mimetype": "text/x-python",
   "name": "python",
   "nbconvert_exporter": "python",
   "pygments_lexer": "ipython3",
   "version": "3.12.8"
  }
 },
 "nbformat": 4,
 "nbformat_minor": 2
}
