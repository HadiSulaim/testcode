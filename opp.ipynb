{
 "cells": [
  {
   "cell_type": "code",
   "execution_count": 1,
   "id": "e1f2b64d-c738-41ee-9663-285d68a3f3b4",
   "metadata": {},
   "outputs": [],
   "source": [
    "class People:\n",
    "    all_people = []\n",
    "    number_people = 0\n",
    "    \n",
    "    def __init__(self, name , age = 0, study = 'none'):\n",
    "        self.__name = name \n",
    "        self.__age = self.valid_age_tall(age , \"age\")\n",
    "        self.__study = study \n",
    "        People.number_people += 1 \n",
    "        People.all_people.append(self)\n",
    "\n",
    "    # @property\n",
    "    # def name(self):\n",
    "    #     return self.__name\n",
    "\n",
    "    # def __str__():\n",
    "    #     return f\"{People.all_people()}\"\n",
    "\n",
    "    @staticmethod\n",
    "    def valid_age_tall(x , corrected_name):\n",
    "        if x < 0:\n",
    "            raise ValueError (f\"{corrected_name} must be a valid value / positive\")\n",
    "        return x\n",
    "        \n",
    "\n",
    "    def get_name_age(self):\n",
    "        return f' {self.__name} and {self.__age}'\n",
    "\n",
    "    def set_name_age(self, new_name, new_age = None):\n",
    "        self.__name = new_name\n",
    "        if new_age == None:\n",
    "            new_age = self.__age\n",
    "        self.__age = new_age\n",
    "        return f\"the new name is {new_name} and the age is {new_age}\"\n",
    "        \n",
    "    def describe(self):\n",
    "        get_status = self.teenagers()\n",
    "        # old_status = \"old\" if self.is_old() else \"not old\"\n",
    "        return (f\"The name is {self.__name}, {self.__age} years old, is a {get_status}, but studied: {self.__study} \")\n",
    "        \n",
    "    def teenagers(self):\n",
    "        if self.__age <= 18:\n",
    "            return \"teenagers\"\n",
    "        elif self.__age > 19 and self.__age <50: #  19 <= self.__age < 50\n",
    "            return \"not Old\"\n",
    "        else:\n",
    "            return \"Old\"\n",
    "\n",
    "    def is_old(self, number = 78):\n",
    "        return \"Old\" if self.__age >=number else \"not Old\"\n",
    "        # if self.__age < number:\n",
    "        #     print ('not Old')\n",
    "        # else:\n",
    "        #     print ('Old') \n",
    "\n",
    "    def who_is_older(self , other):\n",
    "        if self.__age == other.__age:\n",
    "            print (\"same age\")\n",
    "        elif self.__age > other.__age:\n",
    "            print(f\"{self.__name} bigger\")\n",
    "        else:\n",
    "            print (f\"{other.__name} bigger\")\n",
    "\n",
    "    @classmethod\n",
    "    def average_age(cls):\n",
    "        if not cls.all_people:\n",
    "            return 0\n",
    "        total_age = sum(people.__age for people in cls.all_people)\n",
    "        return int(total_age / len(cls.all_people))\n",
    "    \n",
    "    @classmethod\n",
    "    def people_from_string(cls, person_data):\n",
    "        try:\n",
    "            name , age, study = person_data.split(\",\" , 2)\n",
    "            age = int(age.strip())\n",
    "            study_list = study.strip(\"[]\").split(\",\")\n",
    "            return cls(name , age, study_list)\n",
    "    \n",
    "        except ValueError as e:\n",
    "            raise ValueError (f\"missing value in the string: {person_data}. the correct input: name as '' , age as number , study as '' or []. Error {e}\")\n",
    "        \n",
    "        except Exception as e:\n",
    "         raise Error(f\"An unexpected error occurred while parsing: {e}\")\n",
    "\n",
    "    @staticmethod\n",
    "    def mothly_salary(x , y):\n",
    "        z = x * y\n",
    "        steuer = z * 0.4\n",
    "        salary = z - (steuer)\n",
    "        return f\"you worked every month {y} hrs and paid {x} per hr ,so your verdienen this Monate = {salary}\"\n"
   ]
  },
  {
   "cell_type": "code",
   "execution_count": 2,
   "id": "2a29c4ea-1605-4b15-bcfa-54fdcaca5d96",
   "metadata": {},
   "outputs": [],
   "source": [
    "class Gender(People):\n",
    "    gender = \"male\"\n",
    "    number_men_women = 0\n",
    "\n",
    "    def __init__(self, name, age, study, gender, tall):\n",
    "        super().__init__(name, age, study)\n",
    "        self.__gender = gender \n",
    "        self.__tall = self.valid_age_tall(tall , \"tall\")\n",
    "\n",
    "        Gender.number_men_women += 1\n",
    "\n",
    "    def display(self):\n",
    "        string = super().describe()\n",
    "        return string + f\" and {self.__tall} cm .......... {self.__gender}\"\n",
    "\n",
    "    def BMI(self , weight):\n",
    "        \n",
    "        classification = ' '\n",
    "        \n",
    "        if self.__gender == 'male': \n",
    "            bmi = (weight / (self.__tall)**2 ) * 10000\n",
    "        \n",
    "        else: \n",
    "            bmi = (weight / (self.__tall)**4) * 100000000\n",
    "\n",
    "        if bmi <= 18.4:\n",
    "            classification = \"Underweight\"\n",
    "        elif  18.5 <= bmi >=24.9 :\n",
    "            classification = \"Normal\"\n",
    "        else:\n",
    "            classification = \"Overweight\"\n",
    "\n",
    "        return f\"{bmi} and you are {classification}\"\n",
    "\n",
    "\n",
    "        "
   ]
  },
  {
   "cell_type": "code",
   "execution_count": 3,
   "id": "10334d04-dbe9-4aad-8dcb-9dcf02b29e4f",
   "metadata": {},
   "outputs": [
    {
     "name": "stdout",
     "output_type": "stream",
     "text": [
      "[]\n"
     ]
    }
   ],
   "source": [
    "print(People.all_people)"
   ]
  },
  {
   "cell_type": "code",
   "execution_count": 4,
   "id": "1d854da5-5a70-4c98-95bc-7af65d39f634",
   "metadata": {},
   "outputs": [],
   "source": [
    "people_1 = People('Ahmad', 15 , \"Informatik\")\n",
    "people_2 = People(\"Hadi\" , 30 , ['IT' , 'Deutsch'])\n",
    "people_3 = People(\"Morad\" , 77 , 'rente')"
   ]
  },
  {
   "cell_type": "code",
   "execution_count": 5,
   "id": "17c8a93f-5923-4253-822d-5e6ed8b6c3c5",
   "metadata": {},
   "outputs": [],
   "source": [
    "people_16 = People('rr', 90 , \"Informatik\")\n"
   ]
  },
  {
   "cell_type": "code",
   "execution_count": 6,
   "id": "da7cde80-9293-42f7-81aa-a88155d5b114",
   "metadata": {},
   "outputs": [
    {
     "name": "stdout",
     "output_type": "stream",
     "text": [
      "4\n"
     ]
    }
   ],
   "source": [
    "print(People.number_people)"
   ]
  },
  {
   "cell_type": "code",
   "execution_count": 7,
   "id": "8c2bd302-ec9d-414d-941a-1a67248a20ef",
   "metadata": {},
   "outputs": [
    {
     "name": "stdout",
     "output_type": "stream",
     "text": [
      "[<__main__.People object at 0x0000026CF46AEB10>, <__main__.People object at 0x0000026CF46BF7D0>, <__main__.People object at 0x0000026CF46BF0E0>, <__main__.People object at 0x0000026CF46BFC20>]\n"
     ]
    }
   ],
   "source": [
    "print(People.all_people)"
   ]
  },
  {
   "cell_type": "code",
   "execution_count": 8,
   "id": "1ba97c67-4abf-4474-92e2-6a38f0ee4c03",
   "metadata": {},
   "outputs": [
    {
     "name": "stdout",
     "output_type": "stream",
     "text": [
      "['__class__', '__delattr__', '__dict__', '__dir__', '__doc__', '__eq__', '__format__', '__ge__', '__getattribute__', '__getstate__', '__gt__', '__hash__', '__init__', '__init_subclass__', '__le__', '__lt__', '__module__', '__ne__', '__new__', '__reduce__', '__reduce_ex__', '__repr__', '__setattr__', '__sizeof__', '__str__', '__subclasshook__', '__weakref__', 'all_people', 'average_age', 'describe', 'get_name_age', 'is_old', 'mothly_salary', 'number_people', 'people_from_string', 'set_name_age', 'teenagers', 'valid_age_tall', 'who_is_older']\n"
     ]
    }
   ],
   "source": [
    "print(dir(People))"
   ]
  },
  {
   "cell_type": "code",
   "execution_count": 9,
   "id": "7cd3b231-ebdf-42ce-88fd-0eae0516722e",
   "metadata": {},
   "outputs": [
    {
     "data": {
      "text/plain": [
       "'The name is Ahmad, 15 years old, is a teenagers, but studied: Informatik '"
      ]
     },
     "execution_count": 9,
     "metadata": {},
     "output_type": "execute_result"
    }
   ],
   "source": [
    "people_1.describe()\n"
   ]
  },
  {
   "cell_type": "code",
   "execution_count": 10,
   "id": "e2e9696b-dd85-43ac-b003-f6c82018c920",
   "metadata": {},
   "outputs": [
    {
     "data": {
      "text/plain": [
       "\"The name is Hadi, 30 years old, is a not Old, but studied: ['IT', 'Deutsch'] \""
      ]
     },
     "execution_count": 10,
     "metadata": {},
     "output_type": "execute_result"
    }
   ],
   "source": [
    "people_2.describe()\n"
   ]
  },
  {
   "cell_type": "code",
   "execution_count": 11,
   "id": "6337cd9e-332e-49a5-84f1-663151ad8ca8",
   "metadata": {},
   "outputs": [
    {
     "data": {
      "text/plain": [
       "'The name is rr, 90 years old, is a Old, but studied: Informatik '"
      ]
     },
     "execution_count": 11,
     "metadata": {},
     "output_type": "execute_result"
    }
   ],
   "source": [
    "people_16.describe()\n"
   ]
  },
  {
   "cell_type": "code",
   "execution_count": 12,
   "id": "6609f11a-df6e-41ac-b5c4-bc06f515acf8",
   "metadata": {},
   "outputs": [
    {
     "data": {
      "text/plain": [
       "' Ahmad and 15'"
      ]
     },
     "execution_count": 12,
     "metadata": {},
     "output_type": "execute_result"
    }
   ],
   "source": [
    "people_1.get_name_age()"
   ]
  },
  {
   "cell_type": "code",
   "execution_count": 13,
   "id": "a3ac8397-c740-4171-80f2-a9d0bb87726f",
   "metadata": {},
   "outputs": [
    {
     "name": "stdout",
     "output_type": "stream",
     "text": [
      "rr bigger\n"
     ]
    }
   ],
   "source": [
    "People.who_is_older(people_1 , people_16)"
   ]
  },
  {
   "cell_type": "code",
   "execution_count": 14,
   "id": "cd23467d-0236-4e99-b8ee-02c2d04387f7",
   "metadata": {},
   "outputs": [
    {
     "data": {
      "text/plain": [
       "53"
      ]
     },
     "execution_count": 14,
     "metadata": {},
     "output_type": "execute_result"
    }
   ],
   "source": [
    "People.average_age()"
   ]
  },
  {
   "cell_type": "code",
   "execution_count": 15,
   "id": "688f7e2a-7b11-434e-b7c7-050b6cda794d",
   "metadata": {},
   "outputs": [
    {
     "data": {
      "text/plain": [
       "'Old'"
      ]
     },
     "execution_count": 15,
     "metadata": {},
     "output_type": "execute_result"
    }
   ],
   "source": [
    "people_1.teenagers()\n",
    "people_2.teenagers()\n",
    "people_3.teenagers()"
   ]
  },
  {
   "cell_type": "code",
   "execution_count": 16,
   "id": "7682281e-f3e8-4447-97eb-e7cdfca18e34",
   "metadata": {},
   "outputs": [],
   "source": [
    "# people_3.is_old(77)"
   ]
  },
  {
   "cell_type": "code",
   "execution_count": 17,
   "id": "67d7fb5e-ecd1-450a-ac34-2552664e4aa1",
   "metadata": {},
   "outputs": [
    {
     "data": {
      "text/plain": [
       "' Ahmad and 15'"
      ]
     },
     "execution_count": 17,
     "metadata": {},
     "output_type": "execute_result"
    }
   ],
   "source": [
    "people_1.get_name_age()"
   ]
  },
  {
   "cell_type": "code",
   "execution_count": 18,
   "id": "52c7d42a-376d-43db-a446-50f48ead72f8",
   "metadata": {},
   "outputs": [
    {
     "data": {
      "text/plain": [
       "'the new name is Mohammad and the age is 17'"
      ]
     },
     "execution_count": 18,
     "metadata": {},
     "output_type": "execute_result"
    }
   ],
   "source": [
    "people_1.set_name_age(\"Mohammad\", 17)"
   ]
  },
  {
   "cell_type": "code",
   "execution_count": 19,
   "id": "195470ec-1aaa-486b-966d-c558246b061a",
   "metadata": {},
   "outputs": [
    {
     "data": {
      "text/plain": [
       "' Mohammad and 17'"
      ]
     },
     "execution_count": 19,
     "metadata": {},
     "output_type": "execute_result"
    }
   ],
   "source": [
    "people_1.get_name_age()"
   ]
  },
  {
   "cell_type": "code",
   "execution_count": 20,
   "id": "9dc6441a-6a7e-4a9d-a147-966225d3aa05",
   "metadata": {},
   "outputs": [],
   "source": [
    "data = 'Elias , 33 , Economy, Info, Math'\n",
    "person_4 = People.people_from_string(data)\n"
   ]
  },
  {
   "cell_type": "code",
   "execution_count": 21,
   "id": "2bfee86d-f4b5-469d-a5fd-c9abb8c64cf0",
   "metadata": {},
   "outputs": [
    {
     "data": {
      "text/plain": [
       "\"The name is Elias , 33 years old, is a not Old, but studied: [' Economy', ' Info', ' Math'] \""
      ]
     },
     "execution_count": 21,
     "metadata": {},
     "output_type": "execute_result"
    }
   ],
   "source": [
    "person_4.describe()"
   ]
  },
  {
   "cell_type": "code",
   "execution_count": 22,
   "id": "873272a7-9d01-4a31-9385-7c4753595ce3",
   "metadata": {},
   "outputs": [],
   "source": [
    "g1 = Gender('Hossam' , 11 , [\"IT\" , \"english\"] , 'male' , 187.3)\n",
    "g2 = Gender('Mona' , 33, 'Englisch', 'female' , 145)"
   ]
  },
  {
   "cell_type": "code",
   "execution_count": 23,
   "id": "9dbbf446-e2c2-4231-ae80-f99f66d64938",
   "metadata": {},
   "outputs": [
    {
     "data": {
      "text/plain": [
       "2"
      ]
     },
     "execution_count": 23,
     "metadata": {},
     "output_type": "execute_result"
    }
   ],
   "source": [
    "Gender.number_men_women"
   ]
  },
  {
   "cell_type": "code",
   "execution_count": 24,
   "id": "dd8304b6-811a-46cc-b911-4ac03bace85f",
   "metadata": {},
   "outputs": [
    {
     "data": {
      "text/plain": [
       "\"The name is Hossam, 11 years old, is a teenagers, but studied: ['IT', 'english']  and 187.3 cm .......... male\""
      ]
     },
     "execution_count": 24,
     "metadata": {},
     "output_type": "execute_result"
    }
   ],
   "source": [
    "g1.display()"
   ]
  },
  {
   "cell_type": "code",
   "execution_count": 25,
   "id": "c4d6a201-2ef0-4069-921a-713634486e0b",
   "metadata": {},
   "outputs": [
    {
     "data": {
      "text/plain": [
       "'The name is Mona, 33 years old, is a not Old, but studied: Englisch  and 145 cm .......... female'"
      ]
     },
     "execution_count": 25,
     "metadata": {},
     "output_type": "execute_result"
    }
   ],
   "source": [
    "g2.display()"
   ]
  },
  {
   "cell_type": "code",
   "execution_count": 26,
   "id": "de73d790-f7bc-4f51-961b-e6aaf1bca519",
   "metadata": {},
   "outputs": [
    {
     "data": {
      "text/plain": [
       "'you worked every month 160 hrs and paid 13.25 per hr ,so your verdienen this Monate = 1272.0'"
      ]
     },
     "execution_count": 26,
     "metadata": {},
     "output_type": "execute_result"
    }
   ],
   "source": [
    "People.mothly_salary(13.25 , 160)"
   ]
  },
  {
   "cell_type": "code",
   "execution_count": 27,
   "id": "d27c45db-1bcb-4b36-9c25-dd532a3759c9",
   "metadata": {},
   "outputs": [
    {
     "data": {
      "text/plain": [
       "'21.94902182901484 and you are Overweight'"
      ]
     },
     "execution_count": 27,
     "metadata": {},
     "output_type": "execute_result"
    }
   ],
   "source": [
    "g1.BMI(77)"
   ]
  },
  {
   "cell_type": "code",
   "execution_count": 28,
   "id": "1165bdc1-42ff-418f-a110-7e64f2e72e86",
   "metadata": {},
   "outputs": [
    {
     "data": {
      "text/plain": [
       "'10.179829516132909 and you are Underweight'"
      ]
     },
     "execution_count": 28,
     "metadata": {},
     "output_type": "execute_result"
    }
   ],
   "source": [
    "g2.BMI (45)"
   ]
  },
  {
   "cell_type": "code",
   "execution_count": null,
   "id": "25daa74c-9dda-44a2-bdc1-d45e61a473bd",
   "metadata": {},
   "outputs": [],
   "source": []
  }
 ],
 "metadata": {
  "kernelspec": {
   "display_name": "Python 3 (ipykernel)",
   "language": "python",
   "name": "python3"
  },
  "language_info": {
   "codemirror_mode": {
    "name": "ipython",
    "version": 3
   },
   "file_extension": ".py",
   "mimetype": "text/x-python",
   "name": "python",
   "nbconvert_exporter": "python",
   "pygments_lexer": "ipython3",
   "version": "3.12.8"
  }
 },
 "nbformat": 4,
 "nbformat_minor": 5
}
